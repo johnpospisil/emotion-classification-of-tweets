{
 "cells": [
  {
   "cell_type": "code",
   "execution_count": 1,
   "id": "0e964728",
   "metadata": {
    "_cell_guid": "b1076dfc-b9ad-4769-8c92-a6c4dae69d19",
    "_uuid": "8f2839f25d086af736a60e9eeb907d3b93b6e0e5",
    "execution": {
     "iopub.execute_input": "2024-03-07T12:42:43.482057Z",
     "iopub.status.busy": "2024-03-07T12:42:43.481448Z",
     "iopub.status.idle": "2024-03-07T12:42:44.363142Z",
     "shell.execute_reply": "2024-03-07T12:42:44.361801Z"
    },
    "papermill": {
     "duration": 0.891836,
     "end_time": "2024-03-07T12:42:44.365703",
     "exception": false,
     "start_time": "2024-03-07T12:42:43.473867",
     "status": "completed"
    },
    "tags": []
   },
   "outputs": [
    {
     "name": "stdout",
     "output_type": "stream",
     "text": [
      "/kaggle/input/emotions/text.csv\n"
     ]
    }
   ],
   "source": [
    "# This Python 3 environment comes with many helpful analytics libraries installed\n",
    "# It is defined by the kaggle/python Docker image: https://github.com/kaggle/docker-python\n",
    "# For example, here's several helpful packages to load\n",
    "\n",
    "import numpy as np # linear algebra\n",
    "import pandas as pd # data processing, CSV file I/O (e.g. pd.read_csv)\n",
    "\n",
    "# Input data files are available in the read-only \"../input/\" directory\n",
    "# For example, running this (by clicking run or pressing Shift+Enter) will list all files under the input directory\n",
    "\n",
    "import os\n",
    "for dirname, _, filenames in os.walk('/kaggle/input'):\n",
    "    for filename in filenames:\n",
    "        print(os.path.join(dirname, filename))\n",
    "\n",
    "# You can write up to 20GB to the current directory (/kaggle/working/) that gets preserved as output when you create a version using \"Save & Run All\" \n",
    "# You can also write temporary files to /kaggle/temp/, but they won't be saved outside of the current session"
   ]
  },
  {
   "cell_type": "code",
   "execution_count": 2,
   "id": "f3f4c7de",
   "metadata": {
    "execution": {
     "iopub.execute_input": "2024-03-07T12:42:44.378141Z",
     "iopub.status.busy": "2024-03-07T12:42:44.377601Z",
     "iopub.status.idle": "2024-03-07T12:43:00.213846Z",
     "shell.execute_reply": "2024-03-07T12:43:00.212759Z"
    },
    "papermill": {
     "duration": 15.845693,
     "end_time": "2024-03-07T12:43:00.216937",
     "exception": false,
     "start_time": "2024-03-07T12:42:44.371244",
     "status": "completed"
    },
    "tags": []
   },
   "outputs": [
    {
     "name": "stderr",
     "output_type": "stream",
     "text": [
      "2024-03-07 12:42:48.825817: E external/local_xla/xla/stream_executor/cuda/cuda_dnn.cc:9261] Unable to register cuDNN factory: Attempting to register factory for plugin cuDNN when one has already been registered\n",
      "2024-03-07 12:42:48.825943: E external/local_xla/xla/stream_executor/cuda/cuda_fft.cc:607] Unable to register cuFFT factory: Attempting to register factory for plugin cuFFT when one has already been registered\n",
      "2024-03-07 12:42:48.992424: E external/local_xla/xla/stream_executor/cuda/cuda_blas.cc:1515] Unable to register cuBLAS factory: Attempting to register factory for plugin cuBLAS when one has already been registered\n"
     ]
    }
   ],
   "source": [
    "import numpy as np \n",
    "import pandas as pd \n",
    "import matplotlib.pyplot as plt\n",
    "import seaborn as sns\n",
    "from wordcloud import WordCloud\n",
    "from nltk.stem.snowball import SnowballStemmer\n",
    "from keras.preprocessing import sequence\n",
    "from sklearn.model_selection import train_test_split\n",
    "from tensorflow.keras.models import Sequential\n",
    "from tensorflow.keras.layers import *\n",
    "from tensorflow.keras.preprocessing.sequence import pad_sequences\n",
    "from tensorflow.keras.preprocessing.text import Tokenizer\n",
    "import re"
   ]
  },
  {
   "cell_type": "code",
   "execution_count": 3,
   "id": "2f17fd87",
   "metadata": {
    "execution": {
     "iopub.execute_input": "2024-03-07T12:43:00.230442Z",
     "iopub.status.busy": "2024-03-07T12:43:00.228971Z",
     "iopub.status.idle": "2024-03-07T12:43:01.518988Z",
     "shell.execute_reply": "2024-03-07T12:43:01.517826Z"
    },
    "papermill": {
     "duration": 1.299564,
     "end_time": "2024-03-07T12:43:01.521913",
     "exception": false,
     "start_time": "2024-03-07T12:43:00.222349",
     "status": "completed"
    },
    "tags": []
   },
   "outputs": [
    {
     "data": {
      "text/html": [
       "<div>\n",
       "<style scoped>\n",
       "    .dataframe tbody tr th:only-of-type {\n",
       "        vertical-align: middle;\n",
       "    }\n",
       "\n",
       "    .dataframe tbody tr th {\n",
       "        vertical-align: top;\n",
       "    }\n",
       "\n",
       "    .dataframe thead th {\n",
       "        text-align: right;\n",
       "    }\n",
       "</style>\n",
       "<table border=\"1\" class=\"dataframe\">\n",
       "  <thead>\n",
       "    <tr style=\"text-align: right;\">\n",
       "      <th></th>\n",
       "      <th>Unnamed: 0</th>\n",
       "      <th>text</th>\n",
       "      <th>label</th>\n",
       "    </tr>\n",
       "  </thead>\n",
       "  <tbody>\n",
       "    <tr>\n",
       "      <th>0</th>\n",
       "      <td>0</td>\n",
       "      <td>i just feel really helpless and heavy hearted</td>\n",
       "      <td>4</td>\n",
       "    </tr>\n",
       "    <tr>\n",
       "      <th>1</th>\n",
       "      <td>1</td>\n",
       "      <td>ive enjoyed being able to slouch about relax a...</td>\n",
       "      <td>0</td>\n",
       "    </tr>\n",
       "    <tr>\n",
       "      <th>2</th>\n",
       "      <td>2</td>\n",
       "      <td>i gave up my internship with the dmrg and am f...</td>\n",
       "      <td>4</td>\n",
       "    </tr>\n",
       "    <tr>\n",
       "      <th>3</th>\n",
       "      <td>3</td>\n",
       "      <td>i dont know i feel so lost</td>\n",
       "      <td>0</td>\n",
       "    </tr>\n",
       "    <tr>\n",
       "      <th>4</th>\n",
       "      <td>4</td>\n",
       "      <td>i am a kindergarten teacher and i am thoroughl...</td>\n",
       "      <td>4</td>\n",
       "    </tr>\n",
       "  </tbody>\n",
       "</table>\n",
       "</div>"
      ],
      "text/plain": [
       "   Unnamed: 0                                               text  label\n",
       "0           0      i just feel really helpless and heavy hearted      4\n",
       "1           1  ive enjoyed being able to slouch about relax a...      0\n",
       "2           2  i gave up my internship with the dmrg and am f...      4\n",
       "3           3                         i dont know i feel so lost      0\n",
       "4           4  i am a kindergarten teacher and i am thoroughl...      4"
      ]
     },
     "execution_count": 3,
     "metadata": {},
     "output_type": "execute_result"
    }
   ],
   "source": [
    "df = pd.read_csv('/kaggle/input/emotions/text.csv')\n",
    "df.head()"
   ]
  },
  {
   "cell_type": "code",
   "execution_count": 4,
   "id": "84d00b86",
   "metadata": {
    "execution": {
     "iopub.execute_input": "2024-03-07T12:43:01.534911Z",
     "iopub.status.busy": "2024-03-07T12:43:01.534534Z",
     "iopub.status.idle": "2024-03-07T12:43:01.613791Z",
     "shell.execute_reply": "2024-03-07T12:43:01.612239Z"
    },
    "papermill": {
     "duration": 0.088705,
     "end_time": "2024-03-07T12:43:01.616361",
     "exception": false,
     "start_time": "2024-03-07T12:43:01.527656",
     "status": "completed"
    },
    "tags": []
   },
   "outputs": [
    {
     "name": "stdout",
     "output_type": "stream",
     "text": [
      "<class 'pandas.core.frame.DataFrame'>\n",
      "RangeIndex: 416809 entries, 0 to 416808\n",
      "Data columns (total 3 columns):\n",
      " #   Column      Non-Null Count   Dtype \n",
      "---  ------      --------------   ----- \n",
      " 0   Unnamed: 0  416809 non-null  int64 \n",
      " 1   text        416809 non-null  object\n",
      " 2   label       416809 non-null  int64 \n",
      "dtypes: int64(2), object(1)\n",
      "memory usage: 9.5+ MB\n"
     ]
    }
   ],
   "source": [
    "df.info()"
   ]
  },
  {
   "cell_type": "code",
   "execution_count": 5,
   "id": "ff949e87",
   "metadata": {
    "execution": {
     "iopub.execute_input": "2024-03-07T12:43:01.629451Z",
     "iopub.status.busy": "2024-03-07T12:43:01.628724Z",
     "iopub.status.idle": "2024-03-07T12:43:01.881497Z",
     "shell.execute_reply": "2024-03-07T12:43:01.880661Z"
    },
    "papermill": {
     "duration": 0.261783,
     "end_time": "2024-03-07T12:43:01.883755",
     "exception": false,
     "start_time": "2024-03-07T12:43:01.621972",
     "status": "completed"
    },
    "tags": []
   },
   "outputs": [
    {
     "data": {
      "text/plain": [
       "0"
      ]
     },
     "execution_count": 5,
     "metadata": {},
     "output_type": "execute_result"
    }
   ],
   "source": [
    "df.duplicated().sum()"
   ]
  },
  {
   "cell_type": "markdown",
   "id": "9a918c43",
   "metadata": {
    "papermill": {
     "duration": 0.005433,
     "end_time": "2024-03-07T12:43:01.894913",
     "exception": false,
     "start_time": "2024-03-07T12:43:01.889480",
     "status": "completed"
    },
    "tags": []
   },
   "source": [
    "### Get rid of unneeded data."
   ]
  },
  {
   "cell_type": "code",
   "execution_count": 6,
   "id": "bf3fc2e5",
   "metadata": {
    "execution": {
     "iopub.execute_input": "2024-03-07T12:43:01.908194Z",
     "iopub.status.busy": "2024-03-07T12:43:01.907792Z",
     "iopub.status.idle": "2024-03-07T12:43:01.929248Z",
     "shell.execute_reply": "2024-03-07T12:43:01.927890Z"
    },
    "papermill": {
     "duration": 0.030907,
     "end_time": "2024-03-07T12:43:01.931691",
     "exception": false,
     "start_time": "2024-03-07T12:43:01.900784",
     "status": "completed"
    },
    "tags": []
   },
   "outputs": [],
   "source": [
    "df.drop('Unnamed: 0',axis=1,inplace=True)"
   ]
  },
  {
   "cell_type": "markdown",
   "id": "246442a7",
   "metadata": {
    "papermill": {
     "duration": 0.00529,
     "end_time": "2024-03-07T12:43:01.942771",
     "exception": false,
     "start_time": "2024-03-07T12:43:01.937481",
     "status": "completed"
    },
    "tags": []
   },
   "source": [
    "### Label Count"
   ]
  },
  {
   "cell_type": "code",
   "execution_count": 7,
   "id": "b32361c7",
   "metadata": {
    "execution": {
     "iopub.execute_input": "2024-03-07T12:43:01.955974Z",
     "iopub.status.busy": "2024-03-07T12:43:01.955589Z",
     "iopub.status.idle": "2024-03-07T12:43:01.960339Z",
     "shell.execute_reply": "2024-03-07T12:43:01.959233Z"
    },
    "papermill": {
     "duration": 0.013875,
     "end_time": "2024-03-07T12:43:01.962612",
     "exception": false,
     "start_time": "2024-03-07T12:43:01.948737",
     "status": "completed"
    },
    "tags": []
   },
   "outputs": [],
   "source": [
    "label_df = df"
   ]
  },
  {
   "cell_type": "code",
   "execution_count": 8,
   "id": "5de84024",
   "metadata": {
    "execution": {
     "iopub.execute_input": "2024-03-07T12:43:01.975703Z",
     "iopub.status.busy": "2024-03-07T12:43:01.974954Z",
     "iopub.status.idle": "2024-03-07T12:43:01.981196Z",
     "shell.execute_reply": "2024-03-07T12:43:01.979856Z"
    },
    "papermill": {
     "duration": 0.015305,
     "end_time": "2024-03-07T12:43:01.983460",
     "exception": false,
     "start_time": "2024-03-07T12:43:01.968155",
     "status": "completed"
    },
    "tags": []
   },
   "outputs": [],
   "source": [
    "df.rename(columns={'text': 'Text', 'label': 'Label'}, inplace=True)"
   ]
  },
  {
   "cell_type": "code",
   "execution_count": 9,
   "id": "806e743e",
   "metadata": {
    "execution": {
     "iopub.execute_input": "2024-03-07T12:43:01.996784Z",
     "iopub.status.busy": "2024-03-07T12:43:01.996018Z",
     "iopub.status.idle": "2024-03-07T12:43:02.398149Z",
     "shell.execute_reply": "2024-03-07T12:43:02.396981Z"
    },
    "papermill": {
     "duration": 0.411613,
     "end_time": "2024-03-07T12:43:02.400730",
     "exception": false,
     "start_time": "2024-03-07T12:43:01.989117",
     "status": "completed"
    },
    "tags": []
   },
   "outputs": [],
   "source": [
    "label_df['Label'] = label_df['Label'].replace(0,'Sadness')\n",
    "label_df['Label'] = label_df['Label'].replace(1,'Joy')\n",
    "label_df['Label'] = label_df['Label'].replace(2,'Love')\n",
    "label_df['Label'] = label_df['Label'].replace(3,'Anger')\n",
    "label_df['Label'] = label_df['Label'].replace(4,'Fear')\n",
    "label_df['Label'] = label_df['Label'].replace(5,'Surprise')"
   ]
  },
  {
   "cell_type": "code",
   "execution_count": 10,
   "id": "d08849ba",
   "metadata": {
    "execution": {
     "iopub.execute_input": "2024-03-07T12:43:02.414097Z",
     "iopub.status.busy": "2024-03-07T12:43:02.413664Z",
     "iopub.status.idle": "2024-03-07T12:43:03.187116Z",
     "shell.execute_reply": "2024-03-07T12:43:03.185882Z"
    },
    "papermill": {
     "duration": 0.783139,
     "end_time": "2024-03-07T12:43:03.189639",
     "exception": false,
     "start_time": "2024-03-07T12:43:02.406500",
     "status": "completed"
    },
    "tags": []
   },
   "outputs": [
    {
     "data": {
      "text/plain": [
       "<Axes: xlabel='Label', ylabel='count'>"
      ]
     },
     "execution_count": 10,
     "metadata": {},
     "output_type": "execute_result"
    },
    {
     "data": {
      "image/png": "[encoded data removed]",
      "text/plain": [
       "<Figure size 640x480 with 1 Axes>"
      ]
     },
     "metadata": {},
     "output_type": "display_data"
    }
   ],
   "source": [
    "sns.countplot(x ='Label', data = label_df)"
   ]
  },
  {
   "cell_type": "code",
   "execution_count": null,
   "id": "c8c33539",
   "metadata": {
    "papermill": {
     "duration": 0.006095,
     "end_time": "2024-03-07T12:43:03.202159",
     "exception": false,
     "start_time": "2024-03-07T12:43:03.196064",
     "status": "completed"
    },
    "tags": []
   },
   "outputs": [],
   "source": []
  }
 ],
 "metadata": {
  "kaggle": {
   "accelerator": "none",
   "dataSources": [
    {
     "datasetId": 4403839,
     "sourceId": 7563141,
     "sourceType": "datasetVersion"
    }
   ],
   "dockerImageVersionId": 30664,
   "isGpuEnabled": false,
   "isInternetEnabled": true,
   "language": "python",
   "sourceType": "notebook"
  },
  "kernelspec": {
   "display_name": "Python 3",
   "language": "python",
   "name": "python3"
  },
  "language_info": {
   "codemirror_mode": {
    "name": "ipython",
    "version": 3
   },
   "file_extension": ".py",
   "mimetype": "text/x-python",
   "name": "python",
   "nbconvert_exporter": "python",
   "pygments_lexer": "ipython3",
   "version": "3.10.13"
  },
  "papermill": {
   "default_parameters": {},
   "duration": 25.114021,
   "end_time": "2024-03-07T12:43:05.595804",
   "environment_variables": {},
   "exception": null,
   "input_path": "__notebook__.ipynb",
   "output_path": "__notebook__.ipynb",
   "parameters": {},
   "start_time": "2024-03-07T12:42:40.481783",
   "version": "2.5.0"
  }
 },
 "nbformat": 4,
 "nbformat_minor": 5
}
