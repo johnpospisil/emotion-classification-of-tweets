{
 "cells": [
  {
   "cell_type": "code",
   "execution_count": 1,
   "id": "547bd4d7",
   "metadata": {
    "_cell_guid": "b1076dfc-b9ad-4769-8c92-a6c4dae69d19",
    "_uuid": "8f2839f25d086af736a60e9eeb907d3b93b6e0e5",
    "execution": {
     "iopub.execute_input": "2024-03-06T23:11:03.295172Z",
     "iopub.status.busy": "2024-03-06T23:11:03.294680Z",
     "iopub.status.idle": "2024-03-06T23:11:04.375898Z",
     "shell.execute_reply": "2024-03-06T23:11:04.374315Z"
    },
    "papermill": {
     "duration": 1.092747,
     "end_time": "2024-03-06T23:11:04.379006",
     "exception": false,
     "start_time": "2024-03-06T23:11:03.286259",
     "status": "completed"
    },
    "tags": []
   },
   "outputs": [
    {
     "name": "stdout",
     "output_type": "stream",
     "text": [
      "/kaggle/input/emotions/text.csv\n"
     ]
    }
   ],
   "source": [
    "# This Python 3 environment comes with many helpful analytics libraries installed\n",
    "# It is defined by the kaggle/python Docker image: https://github.com/kaggle/docker-python\n",
    "# For example, here's several helpful packages to load\n",
    "\n",
    "import numpy as np # linear algebra\n",
    "import pandas as pd # data processing, CSV file I/O (e.g. pd.read_csv)\n",
    "\n",
    "# Input data files are available in the read-only \"../input/\" directory\n",
    "# For example, running this (by clicking run or pressing Shift+Enter) will list all files under the input directory\n",
    "\n",
    "import os\n",
    "for dirname, _, filenames in os.walk('/kaggle/input'):\n",
    "    for filename in filenames:\n",
    "        print(os.path.join(dirname, filename))\n",
    "\n",
    "# You can write up to 20GB to the current directory (/kaggle/working/) that gets preserved as output when you create a version using \"Save & Run All\" \n",
    "# You can also write temporary files to /kaggle/temp/, but they won't be saved outside of the current session"
   ]
  },
  {
   "cell_type": "code",
   "execution_count": 2,
   "id": "1097b2cd",
   "metadata": {
    "execution": {
     "iopub.execute_input": "2024-03-06T23:11:04.391360Z",
     "iopub.status.busy": "2024-03-06T23:11:04.390830Z",
     "iopub.status.idle": "2024-03-06T23:11:23.798827Z",
     "shell.execute_reply": "2024-03-06T23:11:23.796819Z"
    },
    "papermill": {
     "duration": 19.418021,
     "end_time": "2024-03-06T23:11:23.802344",
     "exception": false,
     "start_time": "2024-03-06T23:11:04.384323",
     "status": "completed"
    },
    "tags": []
   },
   "outputs": [
    {
     "name": "stderr",
     "output_type": "stream",
     "text": [
      "2024-03-06 23:11:10.399918: E external/local_xla/xla/stream_executor/cuda/cuda_dnn.cc:9261] Unable to register cuDNN factory: Attempting to register factory for plugin cuDNN when one has already been registered\n",
      "2024-03-06 23:11:10.400064: E external/local_xla/xla/stream_executor/cuda/cuda_fft.cc:607] Unable to register cuFFT factory: Attempting to register factory for plugin cuFFT when one has already been registered\n",
      "2024-03-06 23:11:10.589275: E external/local_xla/xla/stream_executor/cuda/cuda_blas.cc:1515] Unable to register cuBLAS factory: Attempting to register factory for plugin cuBLAS when one has already been registered\n"
     ]
    }
   ],
   "source": [
    "import numpy as np # linear algebra\n",
    "import pandas as pd # data processing, CSV file I/O (e.g. pd.read_csv)\n",
    "import matplotlib.pyplot as plt\n",
    "import seaborn as sns\n",
    "# Word Cloud\n",
    "from wordcloud import WordCloud\n",
    "# from textacy import preprocessing\n",
    "from nltk.stem.snowball import SnowballStemmer\n",
    "from keras.preprocessing import sequence\n",
    "from sklearn.model_selection import train_test_split\n",
    "from tensorflow.keras.models import Sequential\n",
    "from tensorflow.keras.layers import *\n",
    "from tensorflow.keras.preprocessing.sequence import pad_sequences\n",
    "from tensorflow.keras.preprocessing.text import Tokenizer\n",
    "import re"
   ]
  },
  {
   "cell_type": "code",
   "execution_count": 3,
   "id": "24ae461a",
   "metadata": {
    "execution": {
     "iopub.execute_input": "2024-03-06T23:11:23.815229Z",
     "iopub.status.busy": "2024-03-06T23:11:23.814250Z",
     "iopub.status.idle": "2024-03-06T23:11:25.395685Z",
     "shell.execute_reply": "2024-03-06T23:11:25.394014Z"
    },
    "papermill": {
     "duration": 1.59125,
     "end_time": "2024-03-06T23:11:25.398851",
     "exception": false,
     "start_time": "2024-03-06T23:11:23.807601",
     "status": "completed"
    },
    "tags": []
   },
   "outputs": [
    {
     "data": {
      "text/html": [
       "<div>\n",
       "<style scoped>\n",
       "    .dataframe tbody tr th:only-of-type {\n",
       "        vertical-align: middle;\n",
       "    }\n",
       "\n",
       "    .dataframe tbody tr th {\n",
       "        vertical-align: top;\n",
       "    }\n",
       "\n",
       "    .dataframe thead th {\n",
       "        text-align: right;\n",
       "    }\n",
       "</style>\n",
       "<table border=\"1\" class=\"dataframe\">\n",
       "  <thead>\n",
       "    <tr style=\"text-align: right;\">\n",
       "      <th></th>\n",
       "      <th>Unnamed: 0</th>\n",
       "      <th>text</th>\n",
       "      <th>label</th>\n",
       "    </tr>\n",
       "  </thead>\n",
       "  <tbody>\n",
       "    <tr>\n",
       "      <th>0</th>\n",
       "      <td>0</td>\n",
       "      <td>i just feel really helpless and heavy hearted</td>\n",
       "      <td>4</td>\n",
       "    </tr>\n",
       "    <tr>\n",
       "      <th>1</th>\n",
       "      <td>1</td>\n",
       "      <td>ive enjoyed being able to slouch about relax a...</td>\n",
       "      <td>0</td>\n",
       "    </tr>\n",
       "    <tr>\n",
       "      <th>2</th>\n",
       "      <td>2</td>\n",
       "      <td>i gave up my internship with the dmrg and am f...</td>\n",
       "      <td>4</td>\n",
       "    </tr>\n",
       "    <tr>\n",
       "      <th>3</th>\n",
       "      <td>3</td>\n",
       "      <td>i dont know i feel so lost</td>\n",
       "      <td>0</td>\n",
       "    </tr>\n",
       "    <tr>\n",
       "      <th>4</th>\n",
       "      <td>4</td>\n",
       "      <td>i am a kindergarten teacher and i am thoroughl...</td>\n",
       "      <td>4</td>\n",
       "    </tr>\n",
       "  </tbody>\n",
       "</table>\n",
       "</div>"
      ],
      "text/plain": [
       "   Unnamed: 0                                               text  label\n",
       "0           0      i just feel really helpless and heavy hearted      4\n",
       "1           1  ive enjoyed being able to slouch about relax a...      0\n",
       "2           2  i gave up my internship with the dmrg and am f...      4\n",
       "3           3                         i dont know i feel so lost      0\n",
       "4           4  i am a kindergarten teacher and i am thoroughl...      4"
      ]
     },
     "execution_count": 3,
     "metadata": {},
     "output_type": "execute_result"
    }
   ],
   "source": [
    "df = pd.read_csv('/kaggle/input/emotions/text.csv')\n",
    "df.head()"
   ]
  },
  {
   "cell_type": "code",
   "execution_count": 4,
   "id": "7d5dfdff",
   "metadata": {
    "execution": {
     "iopub.execute_input": "2024-03-06T23:11:25.412657Z",
     "iopub.status.busy": "2024-03-06T23:11:25.412188Z",
     "iopub.status.idle": "2024-03-06T23:11:25.514635Z",
     "shell.execute_reply": "2024-03-06T23:11:25.512621Z"
    },
    "papermill": {
     "duration": 0.113109,
     "end_time": "2024-03-06T23:11:25.517980",
     "exception": false,
     "start_time": "2024-03-06T23:11:25.404871",
     "status": "completed"
    },
    "tags": []
   },
   "outputs": [
    {
     "name": "stdout",
     "output_type": "stream",
     "text": [
      "<class 'pandas.core.frame.DataFrame'>\n",
      "RangeIndex: 416809 entries, 0 to 416808\n",
      "Data columns (total 3 columns):\n",
      " #   Column      Non-Null Count   Dtype \n",
      "---  ------      --------------   ----- \n",
      " 0   Unnamed: 0  416809 non-null  int64 \n",
      " 1   text        416809 non-null  object\n",
      " 2   label       416809 non-null  int64 \n",
      "dtypes: int64(2), object(1)\n",
      "memory usage: 9.5+ MB\n"
     ]
    }
   ],
   "source": [
    "df.info()"
   ]
  },
  {
   "cell_type": "code",
   "execution_count": 5,
   "id": "ab5d5e3f",
   "metadata": {
    "execution": {
     "iopub.execute_input": "2024-03-06T23:11:25.532274Z",
     "iopub.status.busy": "2024-03-06T23:11:25.530627Z",
     "iopub.status.idle": "2024-03-06T23:11:25.869541Z",
     "shell.execute_reply": "2024-03-06T23:11:25.868163Z"
    },
    "papermill": {
     "duration": 0.349375,
     "end_time": "2024-03-06T23:11:25.872943",
     "exception": false,
     "start_time": "2024-03-06T23:11:25.523568",
     "status": "completed"
    },
    "tags": []
   },
   "outputs": [
    {
     "data": {
      "text/plain": [
       "0"
      ]
     },
     "execution_count": 5,
     "metadata": {},
     "output_type": "execute_result"
    }
   ],
   "source": [
    "df.duplicated().sum()"
   ]
  },
  {
   "cell_type": "markdown",
   "id": "7897f4cf",
   "metadata": {
    "papermill": {
     "duration": 0.005333,
     "end_time": "2024-03-06T23:11:25.883942",
     "exception": false,
     "start_time": "2024-03-06T23:11:25.878609",
     "status": "completed"
    },
    "tags": []
   },
   "source": [
    "### Get rid of unneeded data."
   ]
  },
  {
   "cell_type": "code",
   "execution_count": 6,
   "id": "a1a2ff24",
   "metadata": {
    "execution": {
     "iopub.execute_input": "2024-03-06T23:11:25.897918Z",
     "iopub.status.busy": "2024-03-06T23:11:25.897386Z",
     "iopub.status.idle": "2024-03-06T23:11:25.931564Z",
     "shell.execute_reply": "2024-03-06T23:11:25.930348Z"
    },
    "papermill": {
     "duration": 0.044986,
     "end_time": "2024-03-06T23:11:25.934801",
     "exception": false,
     "start_time": "2024-03-06T23:11:25.889815",
     "status": "completed"
    },
    "tags": []
   },
   "outputs": [],
   "source": [
    "df.drop('Unnamed: 0',axis=1,inplace=True)"
   ]
  },
  {
   "cell_type": "markdown",
   "id": "5aa5eed9",
   "metadata": {
    "papermill": {
     "duration": 0.005316,
     "end_time": "2024-03-06T23:11:25.946263",
     "exception": false,
     "start_time": "2024-03-06T23:11:25.940947",
     "status": "completed"
    },
    "tags": []
   },
   "source": [
    "### Rename two labels, and change 'Label' encoding to text."
   ]
  },
  {
   "cell_type": "code",
   "execution_count": 7,
   "id": "068d0e98",
   "metadata": {
    "execution": {
     "iopub.execute_input": "2024-03-06T23:11:25.959495Z",
     "iopub.status.busy": "2024-03-06T23:11:25.958959Z",
     "iopub.status.idle": "2024-03-06T23:11:26.396553Z",
     "shell.execute_reply": "2024-03-06T23:11:26.395476Z"
    },
    "papermill": {
     "duration": 0.448287,
     "end_time": "2024-03-06T23:11:26.399912",
     "exception": false,
     "start_time": "2024-03-06T23:11:25.951625",
     "status": "completed"
    },
    "tags": []
   },
   "outputs": [],
   "source": [
    "df.rename(columns={'text': 'Text', 'label': 'Label'}, inplace=True)\n",
    "df['Label'] = df['Label'].replace(0,'Sadness')\n",
    "df['Label'] = df['Label'].replace(1,'Joy')\n",
    "df['Label'] = df['Label'].replace(2,'Love')\n",
    "df['Label'] = df['Label'].replace(3,'Anger')\n",
    "df['Label'] = df['Label'].replace(4,'Fear')\n",
    "df['Label'] = df['Label'].replace(5,'Surprise')"
   ]
  },
  {
   "cell_type": "code",
   "execution_count": 8,
   "id": "c0ac2423",
   "metadata": {
    "execution": {
     "iopub.execute_input": "2024-03-06T23:11:26.413739Z",
     "iopub.status.busy": "2024-03-06T23:11:26.413275Z",
     "iopub.status.idle": "2024-03-06T23:11:26.424409Z",
     "shell.execute_reply": "2024-03-06T23:11:26.423200Z"
    },
    "papermill": {
     "duration": 0.021619,
     "end_time": "2024-03-06T23:11:26.427355",
     "exception": false,
     "start_time": "2024-03-06T23:11:26.405736",
     "status": "completed"
    },
    "tags": []
   },
   "outputs": [
    {
     "data": {
      "text/html": [
       "<div>\n",
       "<style scoped>\n",
       "    .dataframe tbody tr th:only-of-type {\n",
       "        vertical-align: middle;\n",
       "    }\n",
       "\n",
       "    .dataframe tbody tr th {\n",
       "        vertical-align: top;\n",
       "    }\n",
       "\n",
       "    .dataframe thead th {\n",
       "        text-align: right;\n",
       "    }\n",
       "</style>\n",
       "<table border=\"1\" class=\"dataframe\">\n",
       "  <thead>\n",
       "    <tr style=\"text-align: right;\">\n",
       "      <th></th>\n",
       "      <th>Text</th>\n",
       "      <th>Label</th>\n",
       "    </tr>\n",
       "  </thead>\n",
       "  <tbody>\n",
       "    <tr>\n",
       "      <th>0</th>\n",
       "      <td>i just feel really helpless and heavy hearted</td>\n",
       "      <td>Fear</td>\n",
       "    </tr>\n",
       "    <tr>\n",
       "      <th>1</th>\n",
       "      <td>ive enjoyed being able to slouch about relax a...</td>\n",
       "      <td>Sadness</td>\n",
       "    </tr>\n",
       "    <tr>\n",
       "      <th>2</th>\n",
       "      <td>i gave up my internship with the dmrg and am f...</td>\n",
       "      <td>Fear</td>\n",
       "    </tr>\n",
       "    <tr>\n",
       "      <th>3</th>\n",
       "      <td>i dont know i feel so lost</td>\n",
       "      <td>Sadness</td>\n",
       "    </tr>\n",
       "    <tr>\n",
       "      <th>4</th>\n",
       "      <td>i am a kindergarten teacher and i am thoroughl...</td>\n",
       "      <td>Fear</td>\n",
       "    </tr>\n",
       "  </tbody>\n",
       "</table>\n",
       "</div>"
      ],
      "text/plain": [
       "                                                Text    Label\n",
       "0      i just feel really helpless and heavy hearted     Fear\n",
       "1  ive enjoyed being able to slouch about relax a...  Sadness\n",
       "2  i gave up my internship with the dmrg and am f...     Fear\n",
       "3                         i dont know i feel so lost  Sadness\n",
       "4  i am a kindergarten teacher and i am thoroughl...     Fear"
      ]
     },
     "execution_count": 8,
     "metadata": {},
     "output_type": "execute_result"
    }
   ],
   "source": [
    "df.head()"
   ]
  },
  {
   "cell_type": "code",
   "execution_count": null,
   "id": "64e3c493",
   "metadata": {
    "papermill": {
     "duration": 0.006198,
     "end_time": "2024-03-06T23:11:26.441790",
     "exception": false,
     "start_time": "2024-03-06T23:11:26.435592",
     "status": "completed"
    },
    "tags": []
   },
   "outputs": [],
   "source": []
  }
 ],
 "metadata": {
  "kaggle": {
   "accelerator": "none",
   "dataSources": [
    {
     "datasetId": 4403839,
     "sourceId": 7563141,
     "sourceType": "datasetVersion"
    }
   ],
   "dockerImageVersionId": 30664,
   "isGpuEnabled": false,
   "isInternetEnabled": true,
   "language": "python",
   "sourceType": "notebook"
  },
  "kernelspec": {
   "display_name": "Python 3",
   "language": "python",
   "name": "python3"
  },
  "language_info": {
   "codemirror_mode": {
    "name": "ipython",
    "version": 3
   },
   "file_extension": ".py",
   "mimetype": "text/x-python",
   "name": "python",
   "nbconvert_exporter": "python",
   "pygments_lexer": "ipython3",
   "version": "3.10.13"
  },
  "papermill": {
   "default_parameters": {},
   "duration": 29.491737,
   "end_time": "2024-03-06T23:11:28.915751",
   "environment_variables": {},
   "exception": null,
   "input_path": "__notebook__.ipynb",
   "output_path": "__notebook__.ipynb",
   "parameters": {},
   "start_time": "2024-03-06T23:10:59.424014",
   "version": "2.5.0"
  }
 },
 "nbformat": 4,
 "nbformat_minor": 5
}
